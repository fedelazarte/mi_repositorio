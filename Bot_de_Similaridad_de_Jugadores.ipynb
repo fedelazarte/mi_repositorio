{
  "nbformat": 4,
  "nbformat_minor": 0,
  "metadata": {
    "colab": {
      "provenance": [],
      "authorship_tag": "ABX9TyOQMh1HpFZxjgV+I9MNWZf4",
      "include_colab_link": true
    },
    "kernelspec": {
      "name": "python3",
      "display_name": "Python 3"
    },
    "language_info": {
      "name": "python"
    }
  },
  "cells": [
    {
      "cell_type": "markdown",
      "metadata": {
        "id": "view-in-github",
        "colab_type": "text"
      },
      "source": [
        "<a href=\"https://colab.research.google.com/github/fedelazarte/mi_repositorio/blob/master/Bot_de_Similaridad_de_Jugadores.ipynb\" target=\"_parent\"><img src=\"https://colab.research.google.com/assets/colab-badge.svg\" alt=\"Open In Colab\"/></a>"
      ]
    },
    {
      "cell_type": "code",
      "execution_count": null,
      "metadata": {
        "id": "mhnIl8wogq-H"
      },
      "outputs": [],
      "source": [
        "import pandas as pd\n",
        "import requests\n",
        "from sklearn.metrics.pairwise import cosine_similarity\n",
        "from sklearn.preprocessing import StandardScaler\n",
        "import ipywidgets as widgets\n",
        "from IPython.display import display"
      ]
    },
    {
      "cell_type": "code",
      "source": [
        "# Configuración de la API\n",
        "API_KEY = \"d20aad4a11504e63b933271c0576028b\"\n",
        "BASE_URL = \"https://api.football-data.org/v4\"\n",
        "\n",
        "headers = {\"X-Auth-Token\": API_KEY}"
      ],
      "metadata": {
        "id": "_YoSyfC2g9gp"
      },
      "execution_count": null,
      "outputs": []
    },
    {
      "cell_type": "code",
      "source": [
        "# Obtener todas las competiciones\n",
        "def get_competitions():\n",
        "    url = f\"{BASE_URL}/competitions\"\n",
        "    response = requests.get(url, headers=headers)\n",
        "    if response.status_code == 200:\n",
        "        return response.json()[\"competitions\"]\n",
        "    else:\n",
        "        print(f\"Error {response.status_code}: {response.json()}\")\n",
        "        return []"
      ],
      "metadata": {
        "id": "Lf5MIHE7fuzV"
      },
      "execution_count": null,
      "outputs": []
    },
    {
      "cell_type": "code",
      "source": [
        "# Obtener equipos de una competición\n",
        "def get_teams(competition_id):\n",
        "    url = f\"{BASE_URL}/competitions/{competition_id}/teams\"\n",
        "    response = requests.get(url, headers=headers)\n",
        "    if response.status_code == 200:\n",
        "        return response.json()[\"teams\"]\n",
        "    else:\n",
        "        print(f\"Error {response.status_code}: {response.json()}\")\n",
        "        return []"
      ],
      "metadata": {
        "id": "n_wYVBFLfulD"
      },
      "execution_count": null,
      "outputs": []
    },
    {
      "cell_type": "code",
      "source": [
        "# Obtener plantilla de un equipo e incluir el nombre del equipo en cada jugador\n",
        "def get_team_players(team_id):\n",
        "    url = f\"{BASE_URL}/teams/{team_id}\"\n",
        "    response = requests.get(url, headers=headers)\n",
        "\n",
        "    if response.status_code == 200:\n",
        "        data = response.json()\n",
        "        team_name = data.get(\"name\", \"Unknown Team\")  # Obtener el nombre del equipo\n",
        "        players = data.get(\"squad\", [])\n",
        "\n",
        "        # Agregar el nombre del equipo a cada jugador\n",
        "        for player in players:\n",
        "            player[\"teamName\"] = team_name\n",
        "\n",
        "        return players\n",
        "    else:\n",
        "        print(f\"Error {response.status_code}: {response.json()}\")\n",
        "        return []\n"
      ],
      "metadata": {
        "id": "7lphKGo7fuQU"
      },
      "execution_count": null,
      "outputs": []
    },
    {
      "cell_type": "code",
      "source": [
        "# Generar DataFrame de equipos\n",
        "def generate_teams_df(competitions):\n",
        "    teams = []\n",
        "    for competition in competitions:\n",
        "        competition_teams = get_teams(competition[\"id\"])\n",
        "        for team in competition_teams:\n",
        "            teams.append({\n",
        "                \"TeamName\": team[\"name\"],\n",
        "                \"TeamID\": team[\"id\"],\n",
        "                \"CompetitionID\": competition[\"id\"],\n",
        "                \"CompetitionName\": competition[\"name\"]\n",
        "            })\n",
        "    return pd.DataFrame(teams)"
      ],
      "metadata": {
        "id": "v5lZpxHef6Fz"
      },
      "execution_count": null,
      "outputs": []
    },
    {
      "cell_type": "code",
      "source": [
        "# Generar DataFrame de jugadores\n",
        "def generate_players_df(teams):\n",
        "    players = []\n",
        "    for _, team in teams.iterrows():\n",
        "        team_id = team[\"TeamID\"]\n",
        "        team_players = get_team_players(team_id)\n",
        "        for player in team_players:\n",
        "            players.append({\n",
        "                \"PlayerName\": player[\"name\"],\n",
        "                \"PlayerID\": player[\"id\"],\n",
        "                \"TeamID\": team_id,\n",
        "                \"TeamName\": player[\"teamName\"],  # Incluye el nombre del equipo directamente del jugador\n",
        "                \"Position\": player.get(\"position\", \"Unknown\"),\n",
        "                \"Nationality\": player[\"nationality\"]\n",
        "            })\n",
        "    return pd.DataFrame(players)\n"
      ],
      "metadata": {
        "id": "fDUtyuvzf9Zc"
      },
      "execution_count": null,
      "outputs": []
    },
    {
      "cell_type": "code",
      "source": [
        "# Obtener competiciones activas\n",
        "competitions = get_competitions()\n",
        "\n",
        "if competitions:\n",
        "    # Filtrar solo competiciones relevantes (por ejemplo, ligas nacionales)\n",
        "    competitions = [c for c in competitions if c[\"type\"] == \"LEAGUE\"]\n",
        "\n",
        "    # Generar DataFrame de equipos\n",
        "    teams_df = generate_teams_df(competitions)\n",
        "    print(\"Equipos obtenidos:\")\n",
        "    print(teams_df.head())\n",
        "\n",
        "    # Guardar equipos en CSV\n",
        "    teams_df.to_csv(\"teams.csv\", index=False)\n",
        "\n",
        "    # Generar DataFrame de jugadores\n",
        "    players_df = generate_players_df(teams_df)\n",
        "    print(\"Jugadores obtenidos:\")\n",
        "    print(players_df.head())\n",
        "\n",
        "    # Guardar jugadores en CSV\n",
        "    players_df.to_csv(\"players.csv\", index=False)\n",
        "else:\n",
        "    print(\"No se pudieron obtener competiciones.\")"
      ],
      "metadata": {
        "colab": {
          "base_uri": "https://localhost:8080/"
        },
        "id": "rNyYOOLAgB0c",
        "outputId": "c8597de4-7122-4521-f805-858afa37a502"
      },
      "execution_count": null,
      "outputs": [
        {
          "output_type": "stream",
          "name": "stdout",
          "text": [
            "Equipos obtenidos:\n",
            "        TeamName  TeamID  CompetitionID                CompetitionName\n",
            "0  Fluminense FC    1765           2013  Campeonato Brasileiro Série A\n",
            "1     CA Mineiro    1766           2013  Campeonato Brasileiro Série A\n",
            "2    Grêmio FBPA    1767           2013  Campeonato Brasileiro Série A\n",
            "3  CA Paranaense    1768           2013  Campeonato Brasileiro Série A\n",
            "4   SE Palmeiras    1769           2013  Campeonato Brasileiro Série A\n",
            "Error 429: {'message': 'You reached your request limit. Wait 12 seconds.', 'errorCode': 429}\n",
            "Error 429: {'message': 'You reached your request limit. Wait 12 seconds.', 'errorCode': 429}\n",
            "Error 429: {'message': 'You reached your request limit. Wait 11 seconds.', 'errorCode': 429}\n",
            "Error 429: {'message': 'You reached your request limit. Wait 11 seconds.', 'errorCode': 429}\n",
            "Error 429: {'message': 'You reached your request limit. Wait 10 seconds.', 'errorCode': 429}\n",
            "Error 429: {'message': 'You reached your request limit. Wait 10 seconds.', 'errorCode': 429}\n",
            "Error 429: {'message': 'You reached your request limit. Wait 9 seconds.', 'errorCode': 429}\n",
            "Error 429: {'message': 'You reached your request limit. Wait 9 seconds.', 'errorCode': 429}\n",
            "Error 429: {'message': 'You reached your request limit. Wait 8 seconds.', 'errorCode': 429}\n",
            "Error 429: {'message': 'You reached your request limit. Wait 8 seconds.', 'errorCode': 429}\n",
            "Error 429: {'message': 'You reached your request limit. Wait 8 seconds.', 'errorCode': 429}\n",
            "Error 429: {'message': 'You reached your request limit. Wait 7 seconds.', 'errorCode': 429}\n",
            "Error 429: {'message': 'You reached your request limit. Wait 7 seconds.', 'errorCode': 429}\n",
            "Error 429: {'message': 'You reached your request limit. Wait 6 seconds.', 'errorCode': 429}\n",
            "Error 429: {'message': 'You reached your request limit. Wait 6 seconds.', 'errorCode': 429}\n",
            "Error 429: {'message': 'You reached your request limit. Wait 5 seconds.', 'errorCode': 429}\n",
            "Error 429: {'message': 'You reached your request limit. Wait 5 seconds.', 'errorCode': 429}\n",
            "Error 429: {'message': 'You reached your request limit. Wait 4 seconds.', 'errorCode': 429}\n",
            "Error 429: {'message': 'You reached your request limit. Wait 4 seconds.', 'errorCode': 429}\n",
            "Error 429: {'message': 'You reached your request limit. Wait 3 seconds.', 'errorCode': 429}\n",
            "Error 429: {'message': 'You reached your request limit. Wait 3 seconds.', 'errorCode': 429}\n",
            "Error 429: {'message': 'You reached your request limit. Wait 2 seconds.', 'errorCode': 429}\n",
            "Error 429: {'message': 'You reached your request limit. Wait 2 seconds.', 'errorCode': 429}\n",
            "Error 429: {'message': 'You reached your request limit. Wait 1 seconds.', 'errorCode': 429}\n",
            "Error 429: {'message': 'You reached your request limit. Wait 1 seconds.', 'errorCode': 429}\n",
            "Error 429: {'message': 'You reached your request limit. Wait 60 seconds.', 'errorCode': 429}\n",
            "Error 429: {'message': 'You reached your request limit. Wait 54 seconds.', 'errorCode': 429}\n",
            "Error 429: {'message': 'You reached your request limit. Wait 54 seconds.', 'errorCode': 429}\n",
            "Error 429: {'message': 'You reached your request limit. Wait 54 seconds.', 'errorCode': 429}\n",
            "Error 429: {'message': 'You reached your request limit. Wait 53 seconds.', 'errorCode': 429}\n",
            "Error 429: {'message': 'You reached your request limit. Wait 53 seconds.', 'errorCode': 429}\n",
            "Error 429: {'message': 'You reached your request limit. Wait 52 seconds.', 'errorCode': 429}\n",
            "Error 429: {'message': 'You reached your request limit. Wait 52 seconds.', 'errorCode': 429}\n",
            "Error 429: {'message': 'You reached your request limit. Wait 51 seconds.', 'errorCode': 429}\n",
            "Error 429: {'message': 'You reached your request limit. Wait 51 seconds.', 'errorCode': 429}\n",
            "Error 429: {'message': 'You reached your request limit. Wait 50 seconds.', 'errorCode': 429}\n",
            "Error 429: {'message': 'You reached your request limit. Wait 50 seconds.', 'errorCode': 429}\n",
            "Error 429: {'message': 'You reached your request limit. Wait 49 seconds.', 'errorCode': 429}\n",
            "Error 429: {'message': 'You reached your request limit. Wait 49 seconds.', 'errorCode': 429}\n",
            "Error 429: {'message': 'You reached your request limit. Wait 48 seconds.', 'errorCode': 429}\n",
            "Error 429: {'message': 'You reached your request limit. Wait 48 seconds.', 'errorCode': 429}\n",
            "Error 429: {'message': 'You reached your request limit. Wait 47 seconds.', 'errorCode': 429}\n",
            "Error 429: {'message': 'You reached your request limit. Wait 47 seconds.', 'errorCode': 429}\n",
            "Error 429: {'message': 'You reached your request limit. Wait 46 seconds.', 'errorCode': 429}\n",
            "Error 429: {'message': 'You reached your request limit. Wait 46 seconds.', 'errorCode': 429}\n",
            "Error 429: {'message': 'You reached your request limit. Wait 45 seconds.', 'errorCode': 429}\n",
            "Error 429: {'message': 'You reached your request limit. Wait 45 seconds.', 'errorCode': 429}\n",
            "Error 429: {'message': 'You reached your request limit. Wait 44 seconds.', 'errorCode': 429}\n",
            "Error 429: {'message': 'You reached your request limit. Wait 44 seconds.', 'errorCode': 429}\n",
            "Error 429: {'message': 'You reached your request limit. Wait 44 seconds.', 'errorCode': 429}\n",
            "Error 429: {'message': 'You reached your request limit. Wait 43 seconds.', 'errorCode': 429}\n",
            "Error 429: {'message': 'You reached your request limit. Wait 43 seconds.', 'errorCode': 429}\n",
            "Error 429: {'message': 'You reached your request limit. Wait 42 seconds.', 'errorCode': 429}\n",
            "Error 429: {'message': 'You reached your request limit. Wait 42 seconds.', 'errorCode': 429}\n",
            "Error 429: {'message': 'You reached your request limit. Wait 41 seconds.', 'errorCode': 429}\n",
            "Error 429: {'message': 'You reached your request limit. Wait 41 seconds.', 'errorCode': 429}\n",
            "Error 429: {'message': 'You reached your request limit. Wait 40 seconds.', 'errorCode': 429}\n",
            "Error 429: {'message': 'You reached your request limit. Wait 40 seconds.', 'errorCode': 429}\n",
            "Error 429: {'message': 'You reached your request limit. Wait 39 seconds.', 'errorCode': 429}\n",
            "Error 429: {'message': 'You reached your request limit. Wait 39 seconds.', 'errorCode': 429}\n",
            "Error 429: {'message': 'You reached your request limit. Wait 38 seconds.', 'errorCode': 429}\n",
            "Error 429: {'message': 'You reached your request limit. Wait 38 seconds.', 'errorCode': 429}\n",
            "Error 429: {'message': 'You reached your request limit. Wait 37 seconds.', 'errorCode': 429}\n",
            "Error 429: {'message': 'You reached your request limit. Wait 37 seconds.', 'errorCode': 429}\n",
            "Error 429: {'message': 'You reached your request limit. Wait 36 seconds.', 'errorCode': 429}\n",
            "Error 429: {'message': 'You reached your request limit. Wait 36 seconds.', 'errorCode': 429}\n",
            "Error 429: {'message': 'You reached your request limit. Wait 35 seconds.', 'errorCode': 429}\n",
            "Error 429: {'message': 'You reached your request limit. Wait 35 seconds.', 'errorCode': 429}\n",
            "Error 429: {'message': 'You reached your request limit. Wait 34 seconds.', 'errorCode': 429}\n",
            "Error 429: {'message': 'You reached your request limit. Wait 34 seconds.', 'errorCode': 429}\n",
            "Error 429: {'message': 'You reached your request limit. Wait 34 seconds.', 'errorCode': 429}\n",
            "Error 429: {'message': 'You reached your request limit. Wait 33 seconds.', 'errorCode': 429}\n",
            "Error 429: {'message': 'You reached your request limit. Wait 33 seconds.', 'errorCode': 429}\n",
            "Error 429: {'message': 'You reached your request limit. Wait 32 seconds.', 'errorCode': 429}\n",
            "Error 429: {'message': 'You reached your request limit. Wait 32 seconds.', 'errorCode': 429}\n",
            "Error 429: {'message': 'You reached your request limit. Wait 31 seconds.', 'errorCode': 429}\n",
            "Error 429: {'message': 'You reached your request limit. Wait 31 seconds.', 'errorCode': 429}\n",
            "Error 429: {'message': 'You reached your request limit. Wait 30 seconds.', 'errorCode': 429}\n",
            "Error 429: {'message': 'You reached your request limit. Wait 30 seconds.', 'errorCode': 429}\n",
            "Error 429: {'message': 'You reached your request limit. Wait 29 seconds.', 'errorCode': 429}\n",
            "Error 429: {'message': 'You reached your request limit. Wait 29 seconds.', 'errorCode': 429}\n",
            "Error 429: {'message': 'You reached your request limit. Wait 28 seconds.', 'errorCode': 429}\n",
            "Error 429: {'message': 'You reached your request limit. Wait 28 seconds.', 'errorCode': 429}\n",
            "Error 429: {'message': 'You reached your request limit. Wait 27 seconds.', 'errorCode': 429}\n",
            "Error 429: {'message': 'You reached your request limit. Wait 27 seconds.', 'errorCode': 429}\n",
            "Error 429: {'message': 'You reached your request limit. Wait 26 seconds.', 'errorCode': 429}\n",
            "Error 429: {'message': 'You reached your request limit. Wait 26 seconds.', 'errorCode': 429}\n",
            "Error 429: {'message': 'You reached your request limit. Wait 25 seconds.', 'errorCode': 429}\n",
            "Error 429: {'message': 'You reached your request limit. Wait 25 seconds.', 'errorCode': 429}\n",
            "Error 429: {'message': 'You reached your request limit. Wait 25 seconds.', 'errorCode': 429}\n",
            "Error 429: {'message': 'You reached your request limit. Wait 24 seconds.', 'errorCode': 429}\n",
            "Error 429: {'message': 'You reached your request limit. Wait 24 seconds.', 'errorCode': 429}\n",
            "Error 429: {'message': 'You reached your request limit. Wait 23 seconds.', 'errorCode': 429}\n",
            "Error 429: {'message': 'You reached your request limit. Wait 23 seconds.', 'errorCode': 429}\n",
            "Error 429: {'message': 'You reached your request limit. Wait 22 seconds.', 'errorCode': 429}\n",
            "Error 429: {'message': 'You reached your request limit. Wait 22 seconds.', 'errorCode': 429}\n",
            "Error 429: {'message': 'You reached your request limit. Wait 21 seconds.', 'errorCode': 429}\n",
            "Error 429: {'message': 'You reached your request limit. Wait 21 seconds.', 'errorCode': 429}\n",
            "Error 429: {'message': 'You reached your request limit. Wait 20 seconds.', 'errorCode': 429}\n",
            "Error 429: {'message': 'You reached your request limit. Wait 20 seconds.', 'errorCode': 429}\n",
            "Error 429: {'message': 'You reached your request limit. Wait 19 seconds.', 'errorCode': 429}\n",
            "Error 429: {'message': 'You reached your request limit. Wait 19 seconds.', 'errorCode': 429}\n",
            "Error 429: {'message': 'You reached your request limit. Wait 18 seconds.', 'errorCode': 429}\n",
            "Error 429: {'message': 'You reached your request limit. Wait 18 seconds.', 'errorCode': 429}\n",
            "Error 429: {'message': 'You reached your request limit. Wait 17 seconds.', 'errorCode': 429}\n",
            "Error 429: {'message': 'You reached your request limit. Wait 17 seconds.', 'errorCode': 429}\n",
            "Error 429: {'message': 'You reached your request limit. Wait 16 seconds.', 'errorCode': 429}\n",
            "Error 429: {'message': 'You reached your request limit. Wait 16 seconds.', 'errorCode': 429}\n",
            "Error 429: {'message': 'You reached your request limit. Wait 15 seconds.', 'errorCode': 429}\n",
            "Error 429: {'message': 'You reached your request limit. Wait 15 seconds.', 'errorCode': 429}\n",
            "Error 429: {'message': 'You reached your request limit. Wait 14 seconds.', 'errorCode': 429}\n",
            "Error 429: {'message': 'You reached your request limit. Wait 14 seconds.', 'errorCode': 429}\n",
            "Error 429: {'message': 'You reached your request limit. Wait 14 seconds.', 'errorCode': 429}\n",
            "Error 429: {'message': 'You reached your request limit. Wait 13 seconds.', 'errorCode': 429}\n",
            "Error 429: {'message': 'You reached your request limit. Wait 13 seconds.', 'errorCode': 429}\n",
            "Error 429: {'message': 'You reached your request limit. Wait 12 seconds.', 'errorCode': 429}\n",
            "Error 429: {'message': 'You reached your request limit. Wait 12 seconds.', 'errorCode': 429}\n",
            "Error 429: {'message': 'You reached your request limit. Wait 11 seconds.', 'errorCode': 429}\n",
            "Error 429: {'message': 'You reached your request limit. Wait 11 seconds.', 'errorCode': 429}\n",
            "Error 429: {'message': 'You reached your request limit. Wait 10 seconds.', 'errorCode': 429}\n",
            "Error 429: {'message': 'You reached your request limit. Wait 10 seconds.', 'errorCode': 429}\n",
            "Error 429: {'message': 'You reached your request limit. Wait 9 seconds.', 'errorCode': 429}\n",
            "Error 429: {'message': 'You reached your request limit. Wait 9 seconds.', 'errorCode': 429}\n",
            "Error 429: {'message': 'You reached your request limit. Wait 8 seconds.', 'errorCode': 429}\n",
            "Error 429: {'message': 'You reached your request limit. Wait 8 seconds.', 'errorCode': 429}\n",
            "Error 429: {'message': 'You reached your request limit. Wait 7 seconds.', 'errorCode': 429}\n",
            "Error 429: {'message': 'You reached your request limit. Wait 7 seconds.', 'errorCode': 429}\n",
            "Error 429: {'message': 'You reached your request limit. Wait 6 seconds.', 'errorCode': 429}\n",
            "Error 429: {'message': 'You reached your request limit. Wait 6 seconds.', 'errorCode': 429}\n",
            "Error 429: {'message': 'You reached your request limit. Wait 5 seconds.', 'errorCode': 429}\n",
            "Error 429: {'message': 'You reached your request limit. Wait 5 seconds.', 'errorCode': 429}\n",
            "Error 429: {'message': 'You reached your request limit. Wait 5 seconds.', 'errorCode': 429}\n",
            "Error 429: {'message': 'You reached your request limit. Wait 4 seconds.', 'errorCode': 429}\n",
            "Error 429: {'message': 'You reached your request limit. Wait 4 seconds.', 'errorCode': 429}\n",
            "Error 429: {'message': 'You reached your request limit. Wait 3 seconds.', 'errorCode': 429}\n",
            "Error 429: {'message': 'You reached your request limit. Wait 3 seconds.', 'errorCode': 429}\n",
            "Error 429: {'message': 'You reached your request limit. Wait 2 seconds.', 'errorCode': 429}\n",
            "Error 429: {'message': 'You reached your request limit. Wait 2 seconds.', 'errorCode': 429}\n",
            "Error 429: {'message': 'You reached your request limit. Wait 1 seconds.', 'errorCode': 429}\n",
            "Error 429: {'message': 'You reached your request limit. Wait 1 seconds.', 'errorCode': 429}\n",
            "Error 429: {'message': 'You reached your request limit. Wait 60 seconds.', 'errorCode': 429}\n",
            "Error 429: {'message': 'You reached your request limit. Wait 54 seconds.', 'errorCode': 429}\n",
            "Error 429: {'message': 'You reached your request limit. Wait 54 seconds.', 'errorCode': 429}\n",
            "Error 429: {'message': 'You reached your request limit. Wait 53 seconds.', 'errorCode': 429}\n",
            "Error 429: {'message': 'You reached your request limit. Wait 53 seconds.', 'errorCode': 429}\n",
            "Error 429: {'message': 'You reached your request limit. Wait 53 seconds.', 'errorCode': 429}\n",
            "Error 429: {'message': 'You reached your request limit. Wait 52 seconds.', 'errorCode': 429}\n",
            "Error 429: {'message': 'You reached your request limit. Wait 51 seconds.', 'errorCode': 429}\n",
            "Error 429: {'message': 'You reached your request limit. Wait 51 seconds.', 'errorCode': 429}\n",
            "Error 429: {'message': 'You reached your request limit. Wait 51 seconds.', 'errorCode': 429}\n",
            "Error 429: {'message': 'You reached your request limit. Wait 50 seconds.', 'errorCode': 429}\n",
            "Error 429: {'message': 'You reached your request limit. Wait 50 seconds.', 'errorCode': 429}\n",
            "Error 429: {'message': 'You reached your request limit. Wait 49 seconds.', 'errorCode': 429}\n",
            "Error 429: {'message': 'You reached your request limit. Wait 49 seconds.', 'errorCode': 429}\n",
            "Jugadores obtenidos:\n",
            "      PlayerName  PlayerID  TeamID                 TeamName    Position  \\\n",
            "0    Alex Palmer      8011      74  West Bromwich Albion FC  Goalkeeper   \n",
            "1       Ted Cann    175851      74  West Bromwich Albion FC  Goalkeeper   \n",
            "2  Joe Wildsmith    204722      74  West Bromwich Albion FC  Goalkeeper   \n",
            "3      Josh Shaw    227033      74  West Bromwich Albion FC     Defence   \n",
            "4     Reece Hall    246585      74  West Bromwich Albion FC     Defence   \n",
            "\n",
            "  Nationality  \n",
            "0     England  \n",
            "1     England  \n",
            "2     England  \n",
            "3     England  \n",
            "4     England  \n"
          ]
        }
      ]
    },
    {
      "cell_type": "code",
      "source": [
        "# Procesar datos de los jugadores\n",
        "def process_players(players, team_name):\n",
        "    player_data = []\n",
        "    for player in players:\n",
        "        player_data.append({\n",
        "            \"Name\": player[\"name\"],\n",
        "            \"Position\": player.get(\"position\", \"Unknown\"),\n",
        "            \"DateOfBirth\": player[\"dateOfBirth\"],\n",
        "            \"Nationality\": player[\"nationality\"],\n",
        "            \"Team\": team_name  # Añadir el nombre del equipo directamente\n",
        "        })\n",
        "    return pd.DataFrame(player_data)"
      ],
      "metadata": {
        "id": "SMdQCM7ChGej"
      },
      "execution_count": null,
      "outputs": []
    },
    {
      "cell_type": "code",
      "source": [
        "# Obtener y procesar datos iniciales\n",
        "TEAM_ID = 1765  # Ejemplo: Fluminense\n",
        "players = get_team_players(TEAM_ID)\n"
      ],
      "metadata": {
        "id": "1yZO7SMwhKG8"
      },
      "execution_count": null,
      "outputs": []
    },
    {
      "cell_type": "code",
      "source": [
        "# Función para obtener posiciones similares\n",
        "def get_similar_positions(position):\n",
        "    similar_positions = {\n",
        "        \"Forward\": [\"Forward\", \"Winger\"],\n",
        "        \"Midfielder\": [\"Midfielder\", \"Winger\", \"Defensive Midfielder\"],\n",
        "        \"Defender\": [\"Defender\", \"Wing Back\", \"Defensive Midfielder\"],\n",
        "        \"Goalkeeper\": [\"Goalkeeper\"]\n",
        "    }\n",
        "    return similar_positions.get(position, [position])"
      ],
      "metadata": {
        "id": "w-dCLOzZmGQo"
      },
      "execution_count": null,
      "outputs": []
    },
    {
      "cell_type": "code",
      "source": [
        "# Función para recomendar jugadores similares\n",
        "def recommend_players(player_identifier, data, top_n=5):\n",
        "    # Buscar jugador por nombre o ID\n",
        "    if isinstance(player_identifier, str):  # Nombre\n",
        "        player_data = data[data[\"Name\"] == player_identifier]\n",
        "    else:  # ID\n",
        "        player_data = data[data.index == player_identifier]\n",
        "\n",
        "    if player_data.empty:\n",
        "        return f\"El jugador con identificador '{player_identifier}' no existe en la base de datos.\"\n",
        "\n",
        "    # Obtener la posición del jugador objetivo\n",
        "    target_position = player_data.iloc[0][\"Position\"]\n",
        "    similar_positions = get_similar_positions(target_position)\n",
        "\n",
        "    # Filtrar jugadores con posiciones similares\n",
        "    position_filtered_data = data[data[\"Position\"].isin(similar_positions)]\n",
        "\n",
        "    if position_filtered_data.empty or len(position_filtered_data) == 1:\n",
        "        return f\"No hay suficientes jugadores en posiciones similares para generar recomendaciones.\"\n",
        "\n",
        "    # Calcular similitudes solo con jugadores de posiciones similares\n",
        "    similarities = cosine_similarity(player_data[attributes], position_filtered_data[attributes])\n",
        "    position_filtered_data = position_filtered_data.copy()\n",
        "    position_filtered_data[\"Similarity\"] = similarities[0]\n",
        "\n",
        "    # Ordenar por similitud y devolver los más similares\n",
        "    recommendations = position_filtered_data.sort_values(by=\"Similarity\", ascending=False).head(top_n + 1)\n",
        "    return recommendations[[\"Name\", \"Position\", \"Team\", \"Nationality\", \"Similarity\"]].iloc[1:]\n"
      ],
      "metadata": {
        "id": "ot5jO2Z2haaD"
      },
      "execution_count": null,
      "outputs": []
    },
    {
      "cell_type": "code",
      "source": [
        "# Función para mostrar un menú desplegable con los jugadores del equipo\n",
        "def display_player_selection(team_id, data):\n",
        "    # Filtrar jugadores del equipo\n",
        "    team_players = data[data[\"TeamID\"] == team_id]\n",
        "\n",
        "    if team_players.empty:\n",
        "        print(\"No se encontraron jugadores para el equipo seleccionado.\")\n",
        "        return None\n",
        "\n",
        "    # Crear un menú desplegable con los nombres de los jugadores\n",
        "    player_dropdown = widgets.Dropdown(\n",
        "        options=[(row[\"Name\"], row[\"PlayerID\"]) for _, row in team_players.iterrows()],\n",
        "        description=\"Jugador:\",\n",
        "        style={\"description_width\": \"initial\"},\n",
        "        layout={\"width\": \"400px\"}\n",
        "    )\n",
        "\n",
        "    # Función para mostrar recomendaciones basadas en el jugador seleccionado\n",
        "    def on_player_selected(change):\n",
        "        player_id = change[\"new\"]\n",
        "        if player_id:\n",
        "            recommendations = recommend_players(player_id, data)\n",
        "            print(f\"\\nRecomendaciones para el jugador seleccionado:\")\n",
        "            print(recommendations)\n",
        "\n",
        "    # Conectar el evento de selección del jugador\n",
        "    player_dropdown.observe(on_player_selected, names=\"value\")\n",
        "    display(player_dropdown)"
      ],
      "metadata": {
        "id": "t_CeQjqGnqEM"
      },
      "execution_count": null,
      "outputs": []
    },
    {
      "cell_type": "code",
      "source": [
        "# Generar y mostrar el menú desplegable\n",
        "display_player_selection(TEAM_ID, df_players)"
      ],
      "metadata": {
        "colab": {
          "base_uri": "https://localhost:8080/",
          "height": 537
        },
        "id": "BjYRC5VDnuq-",
        "outputId": "50e4198c-1e2c-46b2-8562-82f9c77d48be"
      },
      "execution_count": null,
      "outputs": [
        {
          "output_type": "error",
          "ename": "KeyError",
          "evalue": "'TeamID'",
          "traceback": [
            "\u001b[0;31m---------------------------------------------------------------------------\u001b[0m",
            "\u001b[0;31mKeyError\u001b[0m                                  Traceback (most recent call last)",
            "\u001b[0;32m/usr/local/lib/python3.10/dist-packages/pandas/core/indexes/base.py\u001b[0m in \u001b[0;36mget_loc\u001b[0;34m(self, key)\u001b[0m\n\u001b[1;32m   3804\u001b[0m         \u001b[0;32mtry\u001b[0m\u001b[0;34m:\u001b[0m\u001b[0;34m\u001b[0m\u001b[0;34m\u001b[0m\u001b[0m\n\u001b[0;32m-> 3805\u001b[0;31m             \u001b[0;32mreturn\u001b[0m \u001b[0mself\u001b[0m\u001b[0;34m.\u001b[0m\u001b[0m_engine\u001b[0m\u001b[0;34m.\u001b[0m\u001b[0mget_loc\u001b[0m\u001b[0;34m(\u001b[0m\u001b[0mcasted_key\u001b[0m\u001b[0;34m)\u001b[0m\u001b[0;34m\u001b[0m\u001b[0;34m\u001b[0m\u001b[0m\n\u001b[0m\u001b[1;32m   3806\u001b[0m         \u001b[0;32mexcept\u001b[0m \u001b[0mKeyError\u001b[0m \u001b[0;32mas\u001b[0m \u001b[0merr\u001b[0m\u001b[0;34m:\u001b[0m\u001b[0;34m\u001b[0m\u001b[0;34m\u001b[0m\u001b[0m\n",
            "\u001b[0;32mindex.pyx\u001b[0m in \u001b[0;36mpandas._libs.index.IndexEngine.get_loc\u001b[0;34m()\u001b[0m\n",
            "\u001b[0;32mindex.pyx\u001b[0m in \u001b[0;36mpandas._libs.index.IndexEngine.get_loc\u001b[0;34m()\u001b[0m\n",
            "\u001b[0;32mpandas/_libs/hashtable_class_helper.pxi\u001b[0m in \u001b[0;36mpandas._libs.hashtable.PyObjectHashTable.get_item\u001b[0;34m()\u001b[0m\n",
            "\u001b[0;32mpandas/_libs/hashtable_class_helper.pxi\u001b[0m in \u001b[0;36mpandas._libs.hashtable.PyObjectHashTable.get_item\u001b[0;34m()\u001b[0m\n",
            "\u001b[0;31mKeyError\u001b[0m: 'TeamID'",
            "\nThe above exception was the direct cause of the following exception:\n",
            "\u001b[0;31mKeyError\u001b[0m                                  Traceback (most recent call last)",
            "\u001b[0;32m<ipython-input-92-4822fceeffee>\u001b[0m in \u001b[0;36m<cell line: 5>\u001b[0;34m()\u001b[0m\n\u001b[1;32m      3\u001b[0m \u001b[0;34m\u001b[0m\u001b[0m\n\u001b[1;32m      4\u001b[0m \u001b[0;31m# Generar y mostrar el menú desplegable\u001b[0m\u001b[0;34m\u001b[0m\u001b[0;34m\u001b[0m\u001b[0m\n\u001b[0;32m----> 5\u001b[0;31m \u001b[0mdisplay_player_selection\u001b[0m\u001b[0;34m(\u001b[0m\u001b[0mTEAM_ID\u001b[0m\u001b[0;34m,\u001b[0m \u001b[0mdf_players\u001b[0m\u001b[0;34m)\u001b[0m\u001b[0;34m\u001b[0m\u001b[0;34m\u001b[0m\u001b[0m\n\u001b[0m",
            "\u001b[0;32m<ipython-input-88-2ab41b613ab5>\u001b[0m in \u001b[0;36mdisplay_player_selection\u001b[0;34m(team_id, data)\u001b[0m\n\u001b[1;32m      2\u001b[0m \u001b[0;32mdef\u001b[0m \u001b[0mdisplay_player_selection\u001b[0m\u001b[0;34m(\u001b[0m\u001b[0mteam_id\u001b[0m\u001b[0;34m,\u001b[0m \u001b[0mdata\u001b[0m\u001b[0;34m)\u001b[0m\u001b[0;34m:\u001b[0m\u001b[0;34m\u001b[0m\u001b[0;34m\u001b[0m\u001b[0m\n\u001b[1;32m      3\u001b[0m     \u001b[0;31m# Filtrar jugadores del equipo\u001b[0m\u001b[0;34m\u001b[0m\u001b[0;34m\u001b[0m\u001b[0m\n\u001b[0;32m----> 4\u001b[0;31m     \u001b[0mteam_players\u001b[0m \u001b[0;34m=\u001b[0m \u001b[0mdata\u001b[0m\u001b[0;34m[\u001b[0m\u001b[0mdata\u001b[0m\u001b[0;34m[\u001b[0m\u001b[0;34m\"TeamID\"\u001b[0m\u001b[0;34m]\u001b[0m \u001b[0;34m==\u001b[0m \u001b[0mteam_id\u001b[0m\u001b[0;34m]\u001b[0m\u001b[0;34m\u001b[0m\u001b[0;34m\u001b[0m\u001b[0m\n\u001b[0m\u001b[1;32m      5\u001b[0m \u001b[0;34m\u001b[0m\u001b[0m\n\u001b[1;32m      6\u001b[0m     \u001b[0;32mif\u001b[0m \u001b[0mteam_players\u001b[0m\u001b[0;34m.\u001b[0m\u001b[0mempty\u001b[0m\u001b[0;34m:\u001b[0m\u001b[0;34m\u001b[0m\u001b[0;34m\u001b[0m\u001b[0m\n",
            "\u001b[0;32m/usr/local/lib/python3.10/dist-packages/pandas/core/frame.py\u001b[0m in \u001b[0;36m__getitem__\u001b[0;34m(self, key)\u001b[0m\n\u001b[1;32m   4100\u001b[0m             \u001b[0;32mif\u001b[0m \u001b[0mself\u001b[0m\u001b[0;34m.\u001b[0m\u001b[0mcolumns\u001b[0m\u001b[0;34m.\u001b[0m\u001b[0mnlevels\u001b[0m \u001b[0;34m>\u001b[0m \u001b[0;36m1\u001b[0m\u001b[0;34m:\u001b[0m\u001b[0;34m\u001b[0m\u001b[0;34m\u001b[0m\u001b[0m\n\u001b[1;32m   4101\u001b[0m                 \u001b[0;32mreturn\u001b[0m \u001b[0mself\u001b[0m\u001b[0;34m.\u001b[0m\u001b[0m_getitem_multilevel\u001b[0m\u001b[0;34m(\u001b[0m\u001b[0mkey\u001b[0m\u001b[0;34m)\u001b[0m\u001b[0;34m\u001b[0m\u001b[0;34m\u001b[0m\u001b[0m\n\u001b[0;32m-> 4102\u001b[0;31m             \u001b[0mindexer\u001b[0m \u001b[0;34m=\u001b[0m \u001b[0mself\u001b[0m\u001b[0;34m.\u001b[0m\u001b[0mcolumns\u001b[0m\u001b[0;34m.\u001b[0m\u001b[0mget_loc\u001b[0m\u001b[0;34m(\u001b[0m\u001b[0mkey\u001b[0m\u001b[0;34m)\u001b[0m\u001b[0;34m\u001b[0m\u001b[0;34m\u001b[0m\u001b[0m\n\u001b[0m\u001b[1;32m   4103\u001b[0m             \u001b[0;32mif\u001b[0m \u001b[0mis_integer\u001b[0m\u001b[0;34m(\u001b[0m\u001b[0mindexer\u001b[0m\u001b[0;34m)\u001b[0m\u001b[0;34m:\u001b[0m\u001b[0;34m\u001b[0m\u001b[0;34m\u001b[0m\u001b[0m\n\u001b[1;32m   4104\u001b[0m                 \u001b[0mindexer\u001b[0m \u001b[0;34m=\u001b[0m \u001b[0;34m[\u001b[0m\u001b[0mindexer\u001b[0m\u001b[0;34m]\u001b[0m\u001b[0;34m\u001b[0m\u001b[0;34m\u001b[0m\u001b[0m\n",
            "\u001b[0;32m/usr/local/lib/python3.10/dist-packages/pandas/core/indexes/base.py\u001b[0m in \u001b[0;36mget_loc\u001b[0;34m(self, key)\u001b[0m\n\u001b[1;32m   3810\u001b[0m             ):\n\u001b[1;32m   3811\u001b[0m                 \u001b[0;32mraise\u001b[0m \u001b[0mInvalidIndexError\u001b[0m\u001b[0;34m(\u001b[0m\u001b[0mkey\u001b[0m\u001b[0;34m)\u001b[0m\u001b[0;34m\u001b[0m\u001b[0;34m\u001b[0m\u001b[0m\n\u001b[0;32m-> 3812\u001b[0;31m             \u001b[0;32mraise\u001b[0m \u001b[0mKeyError\u001b[0m\u001b[0;34m(\u001b[0m\u001b[0mkey\u001b[0m\u001b[0;34m)\u001b[0m \u001b[0;32mfrom\u001b[0m \u001b[0merr\u001b[0m\u001b[0;34m\u001b[0m\u001b[0;34m\u001b[0m\u001b[0m\n\u001b[0m\u001b[1;32m   3813\u001b[0m         \u001b[0;32mexcept\u001b[0m \u001b[0mTypeError\u001b[0m\u001b[0;34m:\u001b[0m\u001b[0;34m\u001b[0m\u001b[0;34m\u001b[0m\u001b[0m\n\u001b[1;32m   3814\u001b[0m             \u001b[0;31m# If we have a listlike key, _check_indexing_error will raise\u001b[0m\u001b[0;34m\u001b[0m\u001b[0;34m\u001b[0m\u001b[0m\n",
            "\u001b[0;31mKeyError\u001b[0m: 'TeamID'"
          ]
        }
      ]
    }
  ]
}